{
 "cells": [
  {
   "cell_type": "code",
   "execution_count": null,
   "metadata": {},
   "outputs": [],
   "source": [
    "a = 8 ** (1/3)"
   ]
  },
  {
   "cell_type": "code",
   "execution_count": 6,
   "metadata": {},
   "outputs": [
    {
     "output_type": "execute_result",
     "data": {
      "text/plain": "float"
     },
     "metadata": {},
     "execution_count": 6
    }
   ],
   "source": [
    "type(a)"
   ]
  },
  {
   "cell_type": "code",
   "execution_count": 7,
   "metadata": {
    "tags": []
   },
   "outputs": [
    {
     "output_type": "stream",
     "name": "stdout",
     "text": "9/4\n2.25\n"
    },
    {
     "output_type": "execute_result",
     "data": {
      "text/plain": "3.25"
     },
     "metadata": {},
     "execution_count": 7
    }
   ],
   "source": [
    "from fractions import Fraction\n",
    "\n",
    "f = Fraction(3,4)\n",
    "print(f * 3)\n",
    "print(float(f * 3))\n",
    "\n",
    "# dir(Fraction)\n",
    "\n",
    "Fraction(3, 4) + 1 + 1.5"
   ]
  },
  {
   "cell_type": "code",
   "execution_count": 26,
   "metadata": {
    "tags": []
   },
   "outputs": [
    {
     "output_type": "stream",
     "name": "stdout",
     "text": "3.0\n2.0\n(2+3j) + (3+3j)\n(5+6j)\n(-1+0j)\n(-3+15j)\n(0.8333333333333334+0.16666666666666666j)\n(2-3j)\n"
    }
   ],
   "source": [
    "a = 2 + 3j\n",
    "print(a.imag)\n",
    "print(a.real)\n",
    "\n",
    "a = complex(2, 3)\n",
    "b = 3 + 3j\n",
    "print(str(a) + \" + \" + str(b))\n",
    "print(a + b)\n",
    "print(a - b )\n",
    "print(a * b)\n",
    "print(a / b)\n",
    "print(a.conjugate())"
   ]
  },
  {
   "cell_type": "code",
   "execution_count": null,
   "metadata": {},
   "outputs": [],
   "source": []
  }
 ],
 "metadata": {
  "kernelspec": {
   "display_name": "Python 3",
   "language": "python",
   "name": "python3"
  },
  "language_info": {
   "codemirror_mode": {
    "name": "ipython",
    "version": 3
   },
   "file_extension": ".py",
   "mimetype": "text/x-python",
   "name": "python",
   "nbconvert_exporter": "python",
   "pygments_lexer": "ipython3",
   "version": "3.6.9"
  }
 },
 "nbformat": 4,
 "nbformat_minor": 4
}