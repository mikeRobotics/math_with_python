{
 "cells": [
  {
   "cell_type": "code",
   "execution_count": null,
   "metadata": {},
   "outputs": [],
   "source": [
    "a = 8 ** (1/3)"
   ]
  },
  {
   "cell_type": "code",
   "execution_count": 6,
   "metadata": {},
   "outputs": [
    {
     "output_type": "execute_result",
     "data": {
      "text/plain": "float"
     },
     "metadata": {},
     "execution_count": 6
    }
   ],
   "source": [
    "type(a)"
   ]
  },
  {
   "cell_type": "code",
   "execution_count": 7,
   "metadata": {
    "tags": []
   },
   "outputs": [
    {
     "output_type": "stream",
     "name": "stdout",
     "text": "9/4\n2.25\n"
    },
    {
     "output_type": "execute_result",
     "data": {
      "text/plain": "3.25"
     },
     "metadata": {},
     "execution_count": 7
    }
   ],
   "source": [
    "from fractions import Fraction\n",
    "\n",
    "f = Fraction(3,4)\n",
    "print(f * 3)\n",
    "print(float(f * 3))\n",
    "\n",
    "# dir(Fraction)\n",
    "\n",
    "Fraction(3, 4) + 1 + 1.5"
   ]
  },
  {
   "cell_type": "code",
   "execution_count": 32,
   "metadata": {
    "tags": []
   },
   "outputs": [
    {
     "output_type": "stream",
     "name": "stdout",
     "text": "3.0\n2.0\n(2+3j) + (3+3j)\n(5+6j)\n(-1+0j)\n(-3+15j)\n(0.8333333333333334+0.16666666666666666j)\n(2-3j)\n"
    },
    {
     "output_type": "execute_result",
     "data": {
      "text/plain": "False"
     },
     "metadata": {},
     "execution_count": 32
    }
   ],
   "source": [
    "a = 2 + 3j\n",
    "print(a.imag)\n",
    "print(a.real)\n",
    "\n",
    "a = complex(2, 3)\n",
    "b = 3 + 3j\n",
    "print(str(a) + \" + \" + str(b))\n",
    "print(a + b)\n",
    "print(a - b )\n",
    "print(a * b)\n",
    "print(a / b)\n",
    "print(a.conjugate())\n",
    "\n",
    "(a.real ** 2 + a.imag ** 2) ** 0.5\n"
   ]
  },
  {
   "cell_type": "code",
   "execution_count": 18,
   "metadata": {
    "tags": []
   },
   "outputs": [
    {
     "output_type": "stream",
     "name": "stdout",
     "text": "1\n2\n3\n6\n9\n13\n18\n26\n39\n78\n117\n234\n"
    }
   ],
   "source": [
    "def is_factor(a, b):\n",
    "    if b % a == 0:\n",
    "        return True\n",
    "    else:\n",
    "        return False\n",
    "\n",
    "is_factor(3,2048)\n",
    "\n",
    "def factor(b):\n",
    "    for i in range(1, b+1):\n",
    "        if b % i == 0:\n",
    "            print(i)\n",
    "    \n",
    "factor(234)"
   ]
  },
  {
   "cell_type": "code",
   "execution_count": null,
   "metadata": {},
   "outputs": [],
   "source": []
  }
 ],
 "metadata": {
  "kernelspec": {
   "display_name": "Python 3",
   "language": "python",
   "name": "python3"
  },
  "language_info": {
   "codemirror_mode": {
    "name": "ipython",
    "version": 3
   },
   "file_extension": ".py",
   "mimetype": "text/x-python",
   "name": "python",
   "nbconvert_exporter": "python",
   "pygments_lexer": "ipython3",
   "version": "3.6.9"
  }
 },
 "nbformat": 4,
 "nbformat_minor": 4
}